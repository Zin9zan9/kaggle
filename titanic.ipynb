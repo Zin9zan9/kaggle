{
 "cells": [
  {
   "cell_type": "code",
   "execution_count": 16,
   "metadata": {},
   "outputs": [],
   "source": [
    "import kaggle\n",
    "import pandas as pd\n",
    "import numpy as np\n",
    "import zipfile"
   ]
  },
  {
   "cell_type": "code",
   "execution_count": 10,
   "metadata": {},
   "outputs": [
    {
     "name": "stdout",
     "output_type": "stream",
     "text": [
      "Downloading titanic.zip to c:\\Users\\ckopp\\Documents\\GitHub\\kaggle\n",
      "\n"
     ]
    },
    {
     "name": "stderr",
     "output_type": "stream",
     "text": [
      "\n",
      "  0%|          | 0.00/34.1k [00:00<?, ?B/s]\n",
      "100%|██████████| 34.1k/34.1k [00:00<00:00, 719kB/s]\n"
     ]
    }
   ],
   "source": [
    "!kaggle competitions download -c titanic"
   ]
  },
  {
   "cell_type": "code",
   "execution_count": 17,
   "metadata": {},
   "outputs": [],
   "source": [
    "with zipfile.ZipFile('titanic.zip', 'r') as zip_ref:\n",
    "    zip_ref.extractall()"
   ]
  },
  {
   "cell_type": "code",
   "execution_count": 82,
   "metadata": {},
   "outputs": [],
   "source": [
    "df = pd.read_csv('train.csv')"
   ]
  },
  {
   "cell_type": "code",
   "execution_count": 83,
   "metadata": {},
   "outputs": [],
   "source": [
    "df.describe()\n",
    "# 177 Fehlende Werte bei 'Age' (20%)\n",
    "# 2 Fehlende Werte bei 'Embarked' (<1%)\n",
    "\n",
    "# Spalte isFemale hinzugefügt\n",
    "df['isFemale'] = df.apply(lambda x: x['Sex']=='female', axis=1)\n",
    "df.drop('Sex', axis=1, inplace=True)\n",
    "\n",
    "# Für die zwei fehlenden Werte den Modus eingesetzt\n",
    "df['Embarked'].fillna(df['Embarked'].mode()[0], inplace=True)\n",
    "\n",
    "# Dummies für die Klasse\n",
    "one_hot = pd.get_dummies(df['Pclass'])\n",
    "one_hot.rename(columns={1:'Class_1', 2:'Class_2', 3:'Class_3'}, inplace=True)\n",
    "df.drop('Pclass',axis = 1, inplace=True)\n",
    "df = df.join(one_hot)\n",
    "\n",
    "# Ich vermute eine quadratische Beziehung zwischen Age und Survival\n",
    "df['AgeSq'] = df.apply(lambda x: x['Age']**2, axis=1)\n",
    "\n",
    "\n",
    "# Dummy-Variablen für Mr, Miss, Mrs und Master\n",
    "title = df.apply(lambda x: x['Name'].split(',')[1].split('.')[0].lstrip(), axis=1)\n",
    "\n",
    "df['isMr'] = title.apply(lambda x: x == 'Mr')\n",
    "df['isMiss'] = title.apply(lambda x: x == 'Miss')\n",
    "df['isMrs'] = title.apply(lambda x: x == 'Mrs')\n",
    "df['isMaster'] = title.apply(lambda x: x == 'Master')\n",
    "\n"
   ]
  },
  {
   "cell_type": "code",
   "execution_count": null,
   "metadata": {},
   "outputs": [],
   "source": []
  }
 ],
 "metadata": {
  "kernelspec": {
   "display_name": "Python 3",
   "language": "python",
   "name": "python3"
  },
  "language_info": {
   "codemirror_mode": {
    "name": "ipython",
    "version": 3
   },
   "file_extension": ".py",
   "mimetype": "text/x-python",
   "name": "python",
   "nbconvert_exporter": "python",
   "pygments_lexer": "ipython3",
   "version": "3.10.2"
  }
 },
 "nbformat": 4,
 "nbformat_minor": 2
}
