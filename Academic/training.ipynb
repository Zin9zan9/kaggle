{
 "cells": [
  {
   "cell_type": "code",
   "execution_count": 1,
   "metadata": {},
   "outputs": [
    {
     "name": "stderr",
     "output_type": "stream",
     "text": [
      "c:\\Users\\Admin\\AppData\\Local\\Programs\\Python\\Python310\\lib\\site-packages\\requests\\__init__.py:102: RequestsDependencyWarning: urllib3 (1.26.7) or chardet (5.2.0)/charset_normalizer (2.0.7) doesn't match a supported version!\n",
      "  warnings.warn(\"urllib3 ({}) or chardet ({})/charset_normalizer ({}) doesn't match a supported \"\n"
     ]
    }
   ],
   "source": [
    "import kaggle\n",
    "import pandas as pd\n",
    "import numpy as np\n",
    "import zipfile\n",
    "import statsmodels.api as sm\n",
    "from sklearn.ensemble import RandomForestClassifier\n",
    "from sklearn.datasets import make_classification\n",
    "from sklearn import metrics \n",
    "from sklearn.neural_network import MLPClassifier\n",
    "\n",
    "from sklearn.neighbors import KDTree\n",
    "from sklearn.preprocessing import StandardScaler\n",
    "from sklearn.model_selection import GridSearchCV\n",
    "\n",
    "import seaborn as sns\n",
    "import matplotlib.pyplot as plt\n",
    "width = 20\n",
    "height = 8\n",
    "sns.set(rc = {'figure.figsize':(width, height)})"
   ]
  },
  {
   "cell_type": "code",
   "execution_count": 2,
   "metadata": {},
   "outputs": [],
   "source": [
    "df = pd.read_csv('df_clean.csv')"
   ]
  },
  {
   "cell_type": "code",
   "execution_count": 3,
   "metadata": {},
   "outputs": [],
   "source": [
    "exog = ['First_choice', 'Single', 'Application_mode_1st_phase', 'Application_mode_2nd_phase', 'Application_mode_Over_23 years_old',\n",
    "        'Application_mode_Tech_Spec', 'Application_mode_Change', 'Quali_Secondary education', 'Quali_Basic education', \n",
    "        'Quali_Tech Spec course', 'Quali_Higher education', 'Quali_Other', 'Quali_12th year of schooling', 'Quali_Higher education',\n",
    "        'Quali_Professional higher technical course', 'M_Quali_Secondary education', 'M_Quali_Basic education_3rd', 'M_Quali_Basic education_1st',\n",
    "        'M_Quali_Basic education_2nd', 'M_Quali_Higher Education', 'M_Quali_Secondary education', 'M_Quali_Basic education_3rd',\n",
    "        'M_Quali_Basic education_1st', 'M_Quali_Basic education_2nd', 'M_Quali_Higher Education', 'F_Quali_Secondary education',\n",
    "        'F_Quali_Basic education_3rd', 'F_Quali_Basic education_1st', 'F_Quali_Basic education_2nd', 'F_Quali_Higher Education',\n",
    "        'Daytime/evening attendance', 'Previous qualification (grade)', 'Admission grade', 'Debtor', 'Tuition fees up to date',\n",
    "        'Gender', 'Scholarship holder', 'Age at enrollment', 'Curricular units 2nd sem (approved)', 'Curricular units 1st sem (approved)',\n",
    "        'Curricular units 2nd sem (grade)', 'Curricular units 1st sem (grade)']"
   ]
  },
  {
   "cell_type": "code",
   "execution_count": 6,
   "metadata": {},
   "outputs": [
    {
     "name": "stdout",
     "output_type": "stream",
     "text": [
      "Optimization terminated successfully.\n",
      "         Current function value: 0.258067\n",
      "         Iterations 8\n",
      "                           Logit Regression Results                           \n",
      "==============================================================================\n",
      "Dep. Variable:         Target_Dropout   No. Observations:                76518\n",
      "Model:                          Logit   Df Residuals:                    76480\n",
      "Method:                           MLE   Df Model:                           37\n",
      "Date:                Tue, 11 Jun 2024   Pseudo R-squ.:                  0.5933\n",
      "Time:                        17:45:39   Log-Likelihood:                -19747.\n",
      "converged:                       True   LL-Null:                       -48558.\n",
      "Covariance Type:            nonrobust   LLR p-value:                     0.000\n",
      "==============================================================================================================\n",
      "                                                 coef    std err          z      P>|z|      [0.025      0.975]\n",
      "--------------------------------------------------------------------------------------------------------------\n",
      "const                                          6.6678      0.729      9.153      0.000       5.240       8.096\n",
      "First_choice                                  -0.1925      0.035     -5.497      0.000      -0.261      -0.124\n",
      "Single                                         0.3948      0.065      6.117      0.000       0.268       0.521\n",
      "Application_mode_1st_phase                    -0.5089      0.068     -7.448      0.000      -0.643      -0.375\n",
      "Application_mode_2nd_phase                    -0.0493      0.068     -0.723      0.470      -0.183       0.084\n",
      "Application_mode_Over_23 years_old             0.1414      0.068      2.065      0.039       0.007       0.276\n",
      "Application_mode_Tech_Spec                    -0.4734      0.192     -2.464      0.014      -0.850      -0.097\n",
      "Application_mode_Change                       -0.1317      0.085     -1.557      0.119      -0.297       0.034\n",
      "Quali_Secondary education                     -0.9370      0.115     -8.150      0.000      -1.162      -0.712\n",
      "Quali_Basic education                         -0.6420      0.156     -4.114      0.000      -0.948      -0.336\n",
      "Quali_Tech Spec course                        -0.5253      0.215     -2.439      0.015      -0.947      -0.103\n",
      "Quali_Higher education                        -0.1775    1.5e+07  -1.19e-08      1.000   -2.93e+07    2.93e+07\n",
      "Quali_Other                                   -0.9702        nan        nan        nan         nan         nan\n",
      "Quali_12th year of schooling                  -0.0795      0.311     -0.255      0.799      -0.690       0.531\n",
      "Quali_Higher education                        -0.1775   1.52e+07  -1.17e-08      1.000   -2.99e+07    2.99e+07\n",
      "Quali_Professional higher technical course    -0.8739      0.263     -3.322      0.001      -1.389      -0.358\n",
      "M_Quali_Secondary education                   -0.2284        nan        nan        nan         nan         nan\n",
      "M_Quali_Basic education_3rd                   -0.1941   1.85e+14  -1.05e-15      1.000   -3.63e+14    3.63e+14\n",
      "M_Quali_Basic education_1st                   -0.0951   3.32e+06  -2.87e-08      1.000    -6.5e+06     6.5e+06\n",
      "M_Quali_Basic education_2nd                   -0.1600        nan        nan        nan         nan         nan\n",
      "M_Quali_Higher Education                      -0.2920        nan        nan        nan         nan         nan\n",
      "M_Quali_Secondary education                   -0.2284        nan        nan        nan         nan         nan\n",
      "M_Quali_Basic education_3rd                   -0.1941   1.85e+14  -1.05e-15      1.000   -3.63e+14    3.63e+14\n",
      "M_Quali_Basic education_1st                   -0.0951   7.23e+06  -1.32e-08      1.000   -1.42e+07    1.42e+07\n",
      "M_Quali_Basic education_2nd                   -0.1600        nan        nan        nan         nan         nan\n",
      "M_Quali_Higher Education                      -0.2920        nan        nan        nan         nan         nan\n",
      "F_Quali_Secondary education                   -0.3546      0.062     -5.751      0.000      -0.476      -0.234\n",
      "F_Quali_Basic education_3rd                   -0.5887      0.042    -13.860      0.000      -0.672      -0.505\n",
      "F_Quali_Basic education_1st                   -0.5911      0.066     -8.907      0.000      -0.721      -0.461\n",
      "F_Quali_Basic education_2nd                   -0.7475      0.058    -12.840      0.000      -0.862      -0.633\n",
      "F_Quali_Higher Education                      -0.5119      0.089     -5.770      0.000      -0.686      -0.338\n",
      "Daytime/evening attendance                     0.1704      0.052      3.258      0.001       0.068       0.273\n",
      "Previous qualification (grade)                -0.0010      0.001     -0.975      0.329      -0.003       0.001\n",
      "Admission grade                               -0.0075      0.001     -5.718      0.000      -0.010      -0.005\n",
      "Debtor                                         0.6823      0.059     11.637      0.000       0.567       0.797\n",
      "Tuition fees up to date                       -2.6068        nan        nan        nan         nan         nan\n",
      "Gender                                         0.2613      0.028      9.298      0.000       0.206       0.316\n",
      "Scholarship holder                            -0.8473      0.042    -19.956      0.000      -0.930      -0.764\n",
      "Age at enrollment                              0.0358      0.004      9.238      0.000       0.028       0.043\n",
      "Curricular units 2nd sem (approved)           -0.4684      0.024    -19.538      0.000      -0.515      -0.421\n",
      "Curricular units 1st sem (approved)            0.0168      0.023      0.721      0.471      -0.029       0.062\n",
      "Curricular units 2nd sem (grade)              -0.1346      0.004    -35.974      0.000      -0.142      -0.127\n",
      "Curricular units 1st sem (grade)              -0.0345      0.006     -5.776      0.000      -0.046      -0.023\n",
      "==============================================================================================================\n"
     ]
    },
    {
     "data": {
      "text/plain": [
       "0.9057"
      ]
     },
     "execution_count": 6,
     "metadata": {},
     "output_type": "execute_result"
    }
   ],
   "source": [
    "X_train = df[exog]\n",
    "X_train = sm.add_constant(X_train)\n",
    "Y_train = df['Target_Dropout']\n",
    "X_train = X_train.astype(float)\n",
    "Y_train = Y_train.astype(float)\n",
    "\n",
    "model = sm.Logit(Y_train, X_train).fit()\n",
    "\n",
    "print(model.summary())\n",
    "\n",
    "np.round(np.mean((model.predict(X_train)>0.5) == df['Target_Dropout']),4)"
   ]
  },
  {
   "cell_type": "code",
   "execution_count": null,
   "metadata": {},
   "outputs": [],
   "source": []
  }
 ],
 "metadata": {
  "kernelspec": {
   "display_name": "Python 3",
   "language": "python",
   "name": "python3"
  },
  "language_info": {
   "codemirror_mode": {
    "name": "ipython",
    "version": 3
   },
   "file_extension": ".py",
   "mimetype": "text/x-python",
   "name": "python",
   "nbconvert_exporter": "python",
   "pygments_lexer": "ipython3",
   "version": "3.10.0"
  }
 },
 "nbformat": 4,
 "nbformat_minor": 2
}
