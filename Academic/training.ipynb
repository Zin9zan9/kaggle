{
 "cells": [
  {
   "cell_type": "code",
   "execution_count": 1,
   "metadata": {},
   "outputs": [
    {
     "name": "stderr",
     "output_type": "stream",
     "text": [
      "c:\\Users\\Admin\\AppData\\Local\\Programs\\Python\\Python310\\lib\\site-packages\\requests\\__init__.py:102: RequestsDependencyWarning: urllib3 (1.26.7) or chardet (5.2.0)/charset_normalizer (2.0.7) doesn't match a supported version!\n",
      "  warnings.warn(\"urllib3 ({}) or chardet ({})/charset_normalizer ({}) doesn't match a supported \"\n"
     ]
    }
   ],
   "source": [
    "import kaggle\n",
    "import pandas as pd\n",
    "import numpy as np\n",
    "import zipfile\n",
    "import statsmodels.api as sm\n",
    "from sklearn.ensemble import RandomForestClassifier\n",
    "from sklearn.datasets import make_classification\n",
    "from sklearn import metrics \n",
    "from sklearn.neural_network import MLPClassifier\n",
    "from sklearn.neighbors import KNeighborsClassifier\n",
    "\n",
    "from sklearn.neighbors import KDTree\n",
    "from sklearn.preprocessing import StandardScaler\n",
    "from sklearn.model_selection import GridSearchCV\n",
    "\n",
    "import seaborn as sns\n",
    "import matplotlib.pyplot as plt\n",
    "width = 20\n",
    "height = 8\n",
    "sns.set(rc = {'figure.figsize':(width, height)})"
   ]
  },
  {
   "cell_type": "code",
   "execution_count": 2,
   "metadata": {},
   "outputs": [],
   "source": [
    "df_train = pd.read_csv('df_clean.csv')"
   ]
  },
  {
   "cell_type": "code",
   "execution_count": 3,
   "metadata": {},
   "outputs": [],
   "source": [
    "exog = ['First_choice', 'Single', 'Application_mode_1st_phase', 'Application_mode_2nd_phase', 'Application_mode_Over_23 years_old',\n",
    "        'Application_mode_Tech_Spec', 'Application_mode_Change', 'Quali_Secondary education', 'Quali_Basic education', \n",
    "        'Quali_Tech Spec course', 'Quali_Higher education', 'Quali_Other', 'Quali_12th year of schooling', 'Quali_Higher education',\n",
    "        'Quali_Professional higher technical course', 'M_Quali_Secondary education', 'M_Quali_Basic education_3rd', 'M_Quali_Basic education_1st',\n",
    "        'M_Quali_Basic education_2nd', 'M_Quali_Higher Education', 'M_Quali_Secondary education', 'M_Quali_Basic education_3rd',\n",
    "        'M_Quali_Basic education_1st', 'M_Quali_Basic education_2nd', 'M_Quali_Higher Education', 'F_Quali_Secondary education',\n",
    "        'F_Quali_Basic education_3rd', 'F_Quali_Basic education_1st', 'F_Quali_Basic education_2nd', 'F_Quali_Higher Education',\n",
    "        'Daytime/evening attendance', 'Previous qualification (grade)', 'Admission grade', 'Debtor', 'Tuition fees up to date',\n",
    "        'Gender', 'Scholarship holder', 'Age at enrollment', 'Curricular units 2nd sem (approved)', 'Curricular units 1st sem (approved)',\n",
    "        'Curricular units 2nd sem (grade)', 'Curricular units 1st sem (grade)']"
   ]
  },
  {
   "cell_type": "markdown",
   "metadata": {},
   "source": [
    "## Logit Model"
   ]
  },
  {
   "cell_type": "code",
   "execution_count": 4,
   "metadata": {},
   "outputs": [
    {
     "name": "stdout",
     "output_type": "stream",
     "text": [
      "Optimization terminated successfully    (Exit mode 0)\n",
      "            Current function value: 0.33566021230443616\n",
      "            Iterations: 266\n",
      "            Function evaluations: 268\n",
      "            Gradient evaluations: 266\n",
      "Optimization terminated successfully    (Exit mode 0)\n",
      "            Current function value: 0.40899847348800433\n",
      "            Iterations: 264\n",
      "            Function evaluations: 267\n",
      "            Gradient evaluations: 264\n",
      "Optimization terminated successfully    (Exit mode 0)\n",
      "            Current function value: 0.25758092864441823\n",
      "            Iterations: 270\n",
      "            Function evaluations: 273\n",
      "            Gradient evaluations: 270\n"
     ]
    }
   ],
   "source": [
    "X_train = df_train[exog]\n",
    "X_train = sm.add_constant(X_train)\n",
    "\n",
    "Y_train_g = df_train['Target_Graduate']\n",
    "Y_train_e = df_train['Target_Enrolled']\n",
    "Y_train_d = df_train['Target_Dropout']\n",
    "\n",
    "X_train = X_train.astype(float)\n",
    "\n",
    "Y_train_g = Y_train_g.astype(float)\n",
    "Y_train_e = Y_train_e.astype(float)\n",
    "Y_train_d = Y_train_d.astype(float)\n",
    "\n",
    "model_g = sm.Logit(Y_train_g, X_train, missing='drop').fit_regularized()\n",
    "model_e = sm.Logit(Y_train_e, X_train, missing='drop').fit_regularized()\n",
    "model_d = sm.Logit(Y_train_d, X_train, missing='drop').fit_regularized()\n",
    "\n",
    "train_pred = pd.DataFrame()\n",
    "train_pred['Graduate'] = model_g.predict(X_train)\n",
    "train_pred['Enrolled'] = model_e.predict(X_train)\n",
    "train_pred['Dropout'] = model_d.predict(X_train)\n",
    "\n",
    "# print(model.summary())\n",
    "# np.round(np.mean((model.predict(X_train)>0.5) == df['Target_Enrolled']),4)"
   ]
  },
  {
   "cell_type": "code",
   "execution_count": 5,
   "metadata": {},
   "outputs": [],
   "source": [
    "def classify(x):\n",
    "    if x['Graduate'] > x['Enrolled'] and x['Graduate'] > x['Dropout']:\n",
    "        return 'Graduate'\n",
    "    if x['Enrolled'] > x['Graduate'] and x['Enrolled'] > x['Dropout']:\n",
    "        return 'Enrolled'\n",
    "    if x['Dropout'] > x['Enrolled'] and x['Dropout'] > x['Graduate']:\n",
    "        return 'Dropout'\n",
    "    else:\n",
    "        return 'Graduate'\n",
    "    \n",
    "\n",
    "def target_to_num(x):\n",
    "    if x['Target'] == 'Graduate':\n",
    "        return 1\n",
    "    if x['Target'] == 'Dropout':\n",
    "        return -1\n",
    "    if x['Target'] == 'Enrolled':\n",
    "        return 0\n",
    "    \n",
    "def num_to_target(x):\n",
    "    if x['Target_num'] == 1:\n",
    "        return 'Graduate'\n",
    "    if x['Target_num'] == -1:\n",
    "        return 'Dropout'\n",
    "    if x['Target_num'] == 0:\n",
    "        return 'Enrolled'\n",
    "    \n",
    "df_train['Target_num'] = df_train.apply(lambda x: target_to_num(x), axis=1)"
   ]
  },
  {
   "cell_type": "code",
   "execution_count": 6,
   "metadata": {},
   "outputs": [
    {
     "name": "stdout",
     "output_type": "stream",
     "text": [
      "0.7933\n",
      "   Graduate  Enrolled   Dropout    Target\n",
      "0  0.915459  0.115757  0.014734  Graduate\n",
      "1  0.014345  0.190726  0.848248   Dropout\n",
      "2  0.021586  0.077762  0.892209   Dropout\n",
      "3  0.964803  0.047911  0.013081  Graduate\n",
      "4  0.745402  0.229015  0.043680  Graduate\n"
     ]
    }
   ],
   "source": [
    "train_pred['Target'] = train_pred.apply(lambda x: classify(x), axis=1)\n",
    "print(np.round(np.mean(train_pred['Target'] == df_train['Target']),4))\n",
    "print(train_pred.head())"
   ]
  },
  {
   "cell_type": "code",
   "execution_count": 7,
   "metadata": {},
   "outputs": [
    {
     "name": "stdout",
     "output_type": "stream",
     "text": [
      "   Graduate  Enrolled   Dropout    Target\n",
      "0  0.003010  0.011087  0.981896   Dropout\n",
      "1  0.753243  0.316973  0.032007  Graduate\n",
      "2  0.809270  0.125882  0.032804  Graduate\n",
      "3  0.710388  0.133592  0.053738  Graduate\n",
      "4  0.130881  0.451527  0.245270  Enrolled\n"
     ]
    }
   ],
   "source": [
    "df_test = pd.read_csv('df_clean_test.csv')\n",
    "X_test = df_test[exog]\n",
    "X_test = sm.add_constant(X_test)\n",
    "X_test = X_test.astype(float)\n",
    "\n",
    "test_pred = pd.DataFrame()\n",
    "test_pred['Graduate'] = model_g.predict(X_test)\n",
    "test_pred['Enrolled'] = model_e.predict(X_test)\n",
    "test_pred['Dropout'] = model_d.predict(X_test)\n",
    "\n",
    "test_pred['Target'] = test_pred.apply(lambda x: classify(x), axis=1)\n",
    "\n",
    "submission = pd.DataFrame()\n",
    "submission['id'] = df_test['id']\n",
    "submission['Target'] = test_pred['Target']\n",
    "\n",
    "print(test_pred.head())\n",
    "submission.to_csv('submission.csv', index=False)"
   ]
  },
  {
   "cell_type": "markdown",
   "metadata": {},
   "source": [
    "##### Score: 0.79543"
   ]
  },
  {
   "cell_type": "markdown",
   "metadata": {},
   "source": [
    "## Random Forest"
   ]
  },
  {
   "cell_type": "code",
   "execution_count": 8,
   "metadata": {},
   "outputs": [],
   "source": [
    "X_train = df_train[exog]\n",
    "Y_train_num = df_train['Target_num']\n",
    "\n",
    "rf = RandomForestClassifier(max_features='auto', oob_score=True, random_state=0, n_jobs=-1)\n",
    "\n",
    "# param_grid = {\"criterion\":['gini', 'entropy', 'log_loss'], \"min_samples_leaf\" : [1, 2, 5], \"min_samples_split\" : [20], \"n_estimators\": [100]}\n",
    "\n",
    "# gs = GridSearchCV(estimator=rf, param_grid=param_grid, scoring='accuracy', cv=3, n_jobs=-1)\n",
    "\n",
    "# gs = gs.fit(X_train, Y_train_num)\n",
    "\n",
    "# print(gs.best_score_)\n",
    "# print(gs.best_params_)"
   ]
  },
  {
   "cell_type": "code",
   "execution_count": 9,
   "metadata": {},
   "outputs": [
    {
     "name": "stdout",
     "output_type": "stream",
     "text": [
      "ACCURACY OF THE MODEL: 0.8547977752578433\n"
     ]
    }
   ],
   "source": [
    "clf = RandomForestClassifier(random_state=7, n_estimators=100, min_samples_split=20, min_samples_leaf=2)\n",
    "clf.fit(X_train, Y_train_num)\n",
    "\n",
    "y_pred = clf.predict(X_train)\n",
    "\n",
    "print(\"ACCURACY OF THE MODEL:\", metrics.accuracy_score(Y_train_num, y_pred))"
   ]
  },
  {
   "cell_type": "code",
   "execution_count": 10,
   "metadata": {},
   "outputs": [],
   "source": [
    "df_test = pd.read_csv('df_clean_test.csv')\n",
    "X_test = df_test[exog]\n",
    "\n",
    "y_pred = clf.predict(X_test)\n",
    "\n",
    "data = {'id':df_test['id'],\n",
    "        'Target_num': y_pred.astype(int)}\n",
    "submission = pd.DataFrame(data)\n",
    "submission['Target'] = submission.apply(lambda x: num_to_target(x), axis=1)\n",
    "submission.drop('Target_num', axis=1, inplace=True)\n",
    "submission.to_csv('submission.csv', index=False)"
   ]
  },
  {
   "cell_type": "markdown",
   "metadata": {},
   "source": [
    "##### Score: 0.81768"
   ]
  },
  {
   "cell_type": "markdown",
   "metadata": {},
   "source": [
    "## K-NN Classification"
   ]
  },
  {
   "cell_type": "code",
   "execution_count": 11,
   "metadata": {},
   "outputs": [],
   "source": [
    "exog = ['First_choice', 'Single', 'Application_mode_1st_phase', 'Application_mode_2nd_phase', 'Application_mode_Over_23 years_old',\n",
    "        'Application_mode_Tech_Spec', 'Application_mode_Change', 'Quali_Secondary education', 'Quali_Basic education', \n",
    "        'Quali_Tech Spec course', 'Quali_Higher education', 'Quali_Other', 'Quali_12th year of schooling', 'Quali_Higher education',\n",
    "        'Quali_Professional higher technical course', 'M_Quali_Secondary education', 'M_Quali_Basic education_3rd', 'M_Quali_Basic education_1st',\n",
    "        'M_Quali_Basic education_2nd', 'M_Quali_Higher Education', 'M_Quali_Secondary education', 'M_Quali_Basic education_3rd',\n",
    "        'M_Quali_Basic education_1st', 'M_Quali_Basic education_2nd', 'M_Quali_Higher Education', 'F_Quali_Secondary education',\n",
    "        'F_Quali_Basic education_3rd', 'F_Quali_Basic education_1st', 'F_Quali_Basic education_2nd', 'F_Quali_Higher Education',\n",
    "        'Daytime/evening attendance', 'Previous qualification (grade)', 'Admission grade', 'Debtor', 'Tuition fees up to date',\n",
    "        'Gender', 'Scholarship holder', 'Age at enrollment', 'Curricular units 2nd sem (approved)', 'Curricular units 1st sem (approved)',\n",
    "        'Curricular units 2nd sem (grade)', 'Curricular units 1st sem (grade)']\n",
    "\n",
    "X_train_knn = X_train[exog]\n",
    "X_test_knn = X_test[exog]\n",
    "\n",
    "scaler = StandardScaler()\n",
    "X_train_knn = scaler.fit(X_train_knn).transform(X_train_knn)\n",
    "X_test_knn = scaler.fit(X_test_knn).transform(X_test_knn)"
   ]
  },
  {
   "cell_type": "code",
   "execution_count": 16,
   "metadata": {},
   "outputs": [
    {
     "name": "stdout",
     "output_type": "stream",
     "text": [
      "0.8334413305254064\n"
     ]
    }
   ],
   "source": [
    "neigh = KNeighborsClassifier(leaf_size=2, algorithm='auto', n_neighbors=5)\n",
    "neigh.fit(X_train_knn, Y_train_num)\n",
    "print(neigh.score(X_train_knn, Y_train_num))\n",
    "y_pred = neigh.predict(X_test_knn)"
   ]
  },
  {
   "cell_type": "code",
   "execution_count": 17,
   "metadata": {},
   "outputs": [],
   "source": [
    "data = {'id':df_test['id'],\n",
    "        'Target_num': y_pred.astype(int)}\n",
    "submission = pd.DataFrame(data)\n",
    "submission['Target'] = submission.apply(lambda x: num_to_target(x), axis=1)\n",
    "submission.drop('Target_num', axis=1, inplace=True)\n",
    "submission.to_csv('submission.csv', index=False)"
   ]
  },
  {
   "cell_type": "code",
   "execution_count": null,
   "metadata": {},
   "outputs": [],
   "source": []
  }
 ],
 "metadata": {
  "kernelspec": {
   "display_name": "Python 3",
   "language": "python",
   "name": "python3"
  },
  "language_info": {
   "codemirror_mode": {
    "name": "ipython",
    "version": 3
   },
   "file_extension": ".py",
   "mimetype": "text/x-python",
   "name": "python",
   "nbconvert_exporter": "python",
   "pygments_lexer": "ipython3",
   "version": "3.10.0"
  }
 },
 "nbformat": 4,
 "nbformat_minor": 2
}
