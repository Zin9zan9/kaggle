{
 "cells": [
  {
   "cell_type": "code",
   "execution_count": 26,
   "metadata": {},
   "outputs": [],
   "source": [
    "import kaggle\n",
    "import pandas as pd\n",
    "import numpy as np\n",
    "import zipfile\n",
    "import statsmodels.api as sm\n",
    "from sklearn.ensemble import RandomForestClassifier\n",
    "from sklearn.datasets import make_classification\n",
    "from sklearn import metrics \n",
    "from sklearn.neural_network import MLPClassifier\n",
    "\n",
    "from sklearn.neighbors import KDTree\n",
    "from sklearn.preprocessing import StandardScaler\n",
    "from sklearn.model_selection import GridSearchCV\n",
    "\n",
    "import seaborn as sns\n",
    "import matplotlib.pyplot as plt\n",
    "width = 20\n",
    "height = 8\n",
    "sns.set(rc = {'figure.figsize':(width, height)})"
   ]
  },
  {
   "cell_type": "code",
   "execution_count": 27,
   "metadata": {},
   "outputs": [],
   "source": [
    "df_train = pd.read_csv('df_clean.csv')"
   ]
  },
  {
   "cell_type": "code",
   "execution_count": 28,
   "metadata": {},
   "outputs": [],
   "source": [
    "exog = ['First_choice', 'Single', 'Application_mode_1st_phase', 'Application_mode_2nd_phase', 'Application_mode_Over_23 years_old',\n",
    "        'Application_mode_Tech_Spec', 'Application_mode_Change', 'Quali_Secondary education', 'Quali_Basic education', \n",
    "        'Quali_Tech Spec course', 'Quali_Higher education', 'Quali_Other', 'Quali_12th year of schooling', 'Quali_Higher education',\n",
    "        'Quali_Professional higher technical course', 'M_Quali_Secondary education', 'M_Quali_Basic education_3rd', 'M_Quali_Basic education_1st',\n",
    "        'M_Quali_Basic education_2nd', 'M_Quali_Higher Education', 'M_Quali_Secondary education', 'M_Quali_Basic education_3rd',\n",
    "        'M_Quali_Basic education_1st', 'M_Quali_Basic education_2nd', 'M_Quali_Higher Education', 'F_Quali_Secondary education',\n",
    "        'F_Quali_Basic education_3rd', 'F_Quali_Basic education_1st', 'F_Quali_Basic education_2nd', 'F_Quali_Higher Education',\n",
    "        'Daytime/evening attendance', 'Previous qualification (grade)', 'Admission grade', 'Debtor', 'Tuition fees up to date',\n",
    "        'Gender', 'Scholarship holder', 'Age at enrollment', 'Curricular units 2nd sem (approved)', 'Curricular units 1st sem (approved)',\n",
    "        'Curricular units 2nd sem (grade)', 'Curricular units 1st sem (grade)']"
   ]
  },
  {
   "cell_type": "code",
   "execution_count": 29,
   "metadata": {},
   "outputs": [
    {
     "name": "stdout",
     "output_type": "stream",
     "text": [
      "Optimization terminated successfully    (Exit mode 0)\n",
      "            Current function value: 0.3335199319537609\n",
      "            Iterations: 268\n",
      "            Function evaluations: 278\n",
      "            Gradient evaluations: 268\n"
     ]
    },
    {
     "name": "stderr",
     "output_type": "stream",
     "text": [
      "c:\\Users\\Admin\\AppData\\Local\\Programs\\Python\\Python310\\lib\\site-packages\\statsmodels\\discrete\\discrete_model.py:1819: RuntimeWarning: overflow encountered in exp\n",
      "  return 1/(1+np.exp(-X))\n",
      "c:\\Users\\Admin\\AppData\\Local\\Programs\\Python\\Python310\\lib\\site-packages\\statsmodels\\discrete\\discrete_model.py:1872: RuntimeWarning: divide by zero encountered in log\n",
      "  return np.sum(np.log(self.cdf(q*np.dot(X,params))))\n"
     ]
    },
    {
     "name": "stdout",
     "output_type": "stream",
     "text": [
      "Optimization terminated successfully    (Exit mode 0)\n",
      "            Current function value: 0.4056484673146826\n",
      "            Iterations: 259\n",
      "            Function evaluations: 268\n",
      "            Gradient evaluations: 259\n",
      "Optimization terminated successfully    (Exit mode 0)\n",
      "            Current function value: 0.25806733177346447\n",
      "            Iterations: 264\n",
      "            Function evaluations: 273\n",
      "            Gradient evaluations: 264\n"
     ]
    }
   ],
   "source": [
    "X_train = df_train[exog]\n",
    "X_train = sm.add_constant(X_train)\n",
    "\n",
    "Y_train_g = df_train['Target_Graduate']\n",
    "Y_train_e = df_train['Target_Enrolled']\n",
    "Y_train_d = df_train['Target_Dropout']\n",
    "\n",
    "X_train = X_train.astype(float)\n",
    "\n",
    "Y_train_g = Y_train_g.astype(float)\n",
    "Y_train_e = Y_train_e.astype(float)\n",
    "Y_train_d = Y_train_d.astype(float)\n",
    "\n",
    "model_g = sm.Logit(Y_train_g, X_train, missing='drop').fit_regularized()\n",
    "model_e = sm.Logit(Y_train_e, X_train, missing='drop').fit_regularized()\n",
    "model_d = sm.Logit(Y_train_d, X_train, missing='drop').fit_regularized()\n",
    "\n",
    "train_pred = pd.DataFrame()\n",
    "train_pred['Graduate'] = model_g.predict(X_train)\n",
    "train_pred['Enrolled'] = model_e.predict(X_train)\n",
    "train_pred['Dropout'] = model_d.predict(X_train)\n",
    "\n",
    "# print(model.summary())\n",
    "# np.round(np.mean((model.predict(X_train)>0.5) == df['Target_Enrolled']),4)"
   ]
  },
  {
   "cell_type": "code",
   "execution_count": 38,
   "metadata": {},
   "outputs": [],
   "source": [
    "def classify(x):\n",
    "    if x['Graduate'] > x['Enrolled'] and x['Graduate'] > x['Dropout']:\n",
    "        return 'Graduate'\n",
    "    if x['Enrolled'] > x['Graduate'] and x['Enrolled'] > x['Dropout']:\n",
    "        return 'Enrolled'\n",
    "    if x['Dropout'] > x['Enrolled'] and x['Dropout'] > x['Graduate']:\n",
    "        return 'Dropout'\n",
    "    else:\n",
    "        return 'Graduate'\n",
    "    \n",
    "\n",
    "def target_to_num(x):\n",
    "    if x['Target'] == 'Graduate':\n",
    "        return 1\n",
    "    if x['Target'] == 'Dropout':\n",
    "        return -1\n",
    "    if x['Target'] == 'Enrolled':\n",
    "        return 0\n",
    "    \n",
    "def num_to_target(x):\n",
    "    if x['Target_num'] == 1:\n",
    "        return 'Graduate'\n",
    "    if x['Target_num'] == -1:\n",
    "        return 'Dropout'\n",
    "    if x['Target_num'] == 0:\n",
    "        return 'Enrolled'\n",
    "    \n",
    "df_train['Target_num'] = df_train.apply(lambda x: target_to_num(x), axis=1)"
   ]
  },
  {
   "cell_type": "code",
   "execution_count": 31,
   "metadata": {},
   "outputs": [
    {
     "name": "stdout",
     "output_type": "stream",
     "text": [
      "0.7946\n",
      "   Graduate  Enrolled   Dropout    Target\n",
      "0  0.913780  0.115706  0.015012  Graduate\n",
      "1  0.013489  0.188903  0.853568   Dropout\n",
      "2  0.019990  0.075185  0.896228   Dropout\n",
      "3  0.963667  0.048383  0.013187  Graduate\n",
      "4  0.742316  0.229608  0.043997  Graduate\n"
     ]
    }
   ],
   "source": [
    "train_pred['Target'] = train_pred.apply(lambda x: classify(x), axis=1)\n",
    "print(np.round(np.mean(train_pred['Target'] == df_train['Target']),4))\n",
    "print(train_pred.head())"
   ]
  },
  {
   "cell_type": "code",
   "execution_count": 32,
   "metadata": {},
   "outputs": [
    {
     "name": "stdout",
     "output_type": "stream",
     "text": [
      "   Graduate  Enrolled   Dropout    Target\n",
      "0  0.002876  0.010527  0.982431   Dropout\n",
      "1  0.752700  0.321279  0.031883  Graduate\n",
      "2  0.802967  0.126724  0.033367  Graduate\n",
      "3  0.707713  0.134234  0.053683  Graduate\n",
      "4  0.125802  0.435977  0.265427  Enrolled\n"
     ]
    }
   ],
   "source": [
    "df_test = pd.read_csv('df_clean_test.csv')\n",
    "X_test = df_test[exog]\n",
    "X_test = sm.add_constant(X_test)\n",
    "X_test = X_test.astype(float)\n",
    "\n",
    "test_pred = pd.DataFrame()\n",
    "test_pred['Graduate'] = model_g.predict(X_test)\n",
    "test_pred['Enrolled'] = model_e.predict(X_test)\n",
    "test_pred['Dropout'] = model_d.predict(X_test)\n",
    "\n",
    "test_pred['Target'] = test_pred.apply(lambda x: classify(x), axis=1)\n",
    "\n",
    "submission = pd.DataFrame()\n",
    "submission['id'] = df_test['id']\n",
    "submission['Target'] = test_pred['Target']\n",
    "\n",
    "print(test_pred.head())\n",
    "submission.to_csv('submission.csv', index=False)"
   ]
  },
  {
   "cell_type": "markdown",
   "metadata": {},
   "source": [
    "##### Score: 0.79543"
   ]
  },
  {
   "cell_type": "markdown",
   "metadata": {},
   "source": [
    "##### Random Forest"
   ]
  },
  {
   "cell_type": "code",
   "execution_count": 45,
   "metadata": {},
   "outputs": [
    {
     "name": "stderr",
     "output_type": "stream",
     "text": [
      "c:\\Users\\Admin\\AppData\\Local\\Programs\\Python\\Python310\\lib\\site-packages\\sklearn\\ensemble\\_forest.py:427: FutureWarning: `max_features='auto'` has been deprecated in 1.1 and will be removed in 1.3. To keep the past behaviour, explicitly set `max_features='sqrt'` or remove this parameter as it is also the default value for RandomForestClassifiers and ExtraTreesClassifiers.\n",
      "  warn(\n"
     ]
    },
    {
     "name": "stdout",
     "output_type": "stream",
     "text": [
      "0.815886458088293\n",
      "{'criterion': 'gini', 'min_samples_leaf': 2, 'min_samples_split': 20, 'n_estimators': 100}\n"
     ]
    }
   ],
   "source": [
    "X_train = df_train[exog]\n",
    "Y_train_num = df_train['Target_num']\n",
    "\n",
    "rf = RandomForestClassifier(max_features='auto', oob_score=True, random_state=0, n_jobs=-1)\n",
    "\n",
    "param_grid = {\"criterion\":['gini', 'entropy', 'log_loss'], \"min_samples_leaf\" : [1, 2, 5], \"min_samples_split\" : [20], \"n_estimators\": [100]}\n",
    "\n",
    "gs = GridSearchCV(estimator=rf, param_grid=param_grid, scoring='accuracy', cv=3, n_jobs=-1)\n",
    "\n",
    "gs = gs.fit(X_train, Y_train_num)\n",
    "\n",
    "print(gs.best_score_)\n",
    "print(gs.best_params_)"
   ]
  },
  {
   "cell_type": "code",
   "execution_count": 48,
   "metadata": {},
   "outputs": [
    {
     "name": "stdout",
     "output_type": "stream",
     "text": [
      "ACCURACY OF THE MODEL: 0.8564128701743381\n"
     ]
    }
   ],
   "source": [
    "clf = RandomForestClassifier(random_state=7, n_estimators=100, min_samples_split=20, min_samples_leaf=2)\n",
    "clf.fit(X_train, Y_train_num)\n",
    "\n",
    "y_pred = clf.predict(X_train)\n",
    "\n",
    "print(\"ACCURACY OF THE MODEL:\", metrics.accuracy_score(Y_train_num, y_pred))"
   ]
  },
  {
   "cell_type": "code",
   "execution_count": 49,
   "metadata": {},
   "outputs": [],
   "source": [
    "df_test = pd.read_csv('df_clean_test.csv')\n",
    "X_test = df_test[exog]\n",
    "\n",
    "y_pred = clf.predict(X_test)\n",
    "\n",
    "data = {'id':df_test['id'],\n",
    "        'Target_num': y_pred.astype(int)}\n",
    "\n",
    "submission = pd.DataFrame(data)\n",
    "submission['Target'] = submission.apply(lambda x: num_to_target(x), axis=1)\n",
    "submission.drop('Target_num', axis=1, inplace=True)\n",
    "\n",
    "submission.to_csv('submission.csv', index=False)"
   ]
  },
  {
   "cell_type": "markdown",
   "metadata": {},
   "source": [
    "##### Score: 0.81768"
   ]
  }
 ],
 "metadata": {
  "kernelspec": {
   "display_name": "Python 3",
   "language": "python",
   "name": "python3"
  },
  "language_info": {
   "codemirror_mode": {
    "name": "ipython",
    "version": 3
   },
   "file_extension": ".py",
   "mimetype": "text/x-python",
   "name": "python",
   "nbconvert_exporter": "python",
   "pygments_lexer": "ipython3",
   "version": "3.10.0"
  }
 },
 "nbformat": 4,
 "nbformat_minor": 2
}
