{
 "cells": [
  {
   "cell_type": "code",
   "execution_count": 5,
   "metadata": {},
   "outputs": [],
   "source": [
    "import kaggle\n",
    "import pandas as pd\n",
    "import numpy as np\n",
    "import zipfile\n",
    "import statsmodels.api as sm\n",
    "from sklearn.ensemble import RandomForestClassifier\n",
    "from sklearn.datasets import make_classification\n",
    "from sklearn import metrics \n",
    "from sklearn.neural_network import MLPClassifier\n",
    "from sklearn.preprocessing import StandardScaler\n",
    "\n",
    "from sklearn.neighbors import KDTree\n",
    "from sklearn.preprocessing import StandardScaler\n",
    "from sklearn.model_selection import GridSearchCV\n",
    "\n",
    "import seaborn as sns\n",
    "import matplotlib.pyplot as plt\n",
    "width = 20\n",
    "height = 8\n",
    "sns.set(rc = {'figure.figsize':(width, height)})"
   ]
  },
  {
   "cell_type": "code",
   "execution_count": 2,
   "metadata": {},
   "outputs": [],
   "source": [
    "# !kaggle competitions download -c playground-series-s4e6\n",
    "# with zipfile.ZipFile('playground-series-s4e6.zip', 'r') as zip_ref:\n",
    "#     zip_ref.extractall()"
   ]
  },
  {
   "cell_type": "code",
   "execution_count": 22,
   "metadata": {},
   "outputs": [
    {
     "data": {
      "text/plain": [
       "array([[-0.22002207],\n",
       "       [-0.44291215],\n",
       "       [ 1.53921747],\n",
       "       ...,\n",
       "       [-0.16429955],\n",
       "       [-0.04489415],\n",
       "       [ 0.44864816]])"
      ]
     },
     "execution_count": 22,
     "metadata": {},
     "output_type": "execute_result"
    }
   ],
   "source": [
    "standardize_feature(df_train['Admission grade'])\n"
   ]
  },
  {
   "cell_type": "code",
   "execution_count": 64,
   "metadata": {},
   "outputs": [],
   "source": [
    "df_train = pd.read_csv('train.csv')\n",
    "\n",
    "def standardize_feature(f):\n",
    "    f = f.to_numpy().reshape(-1, 1)\n",
    "    scaler = StandardScaler()\n",
    "    return scaler.fit(f).transform(f)\n",
    "\n",
    "def clean_data(df, is_test=False):\n",
    "    \n",
    "    # Dummy for Target_Graduate, Target_Dropout and Target_Enrolled\n",
    "    if 'Target' in df.columns:\n",
    "        one_hot = pd.get_dummies(df['Target'], prefix='Target')\n",
    "        df = df.join(one_hot)\n",
    "\n",
    "    # Dummy for first choice\n",
    "    df['First_choice'] = df.apply(lambda x: int(x['Application order'] <= 1), axis=1)\n",
    "    \n",
    "    # Dummy for Marital Status Single\n",
    "    df['Single'] = df.apply(lambda x: int(x['Marital status'] == 1), axis=1)\n",
    "\n",
    "    # Dummy for different application modes\n",
    "    df['Application_mode_1st_phase'] = df.apply(lambda x: int(x['Application mode'] == 1), axis=1)\n",
    "    df['Application_mode_2nd_phase'] = df.apply(lambda x: int(x['Application mode'] == 17), axis=1)\n",
    "    df['Application_mode_Over_23 years_old'] = df.apply(lambda x: int(x['Application mode'] == 39), axis=1)\n",
    "    df['Application_mode_Tech_Spec'] = df.apply(lambda x: int(x['Application mode'] == 44), axis=1)\n",
    "    df['Application_mode_Change'] = df.apply(lambda x: int(x['Application mode'] == 43), axis=1)\n",
    "    \n",
    "    # Dummy for different courses\n",
    "    one_hot = pd.get_dummies(df['Course'], prefix='Course')\n",
    "    df = df.join(one_hot)\n",
    "\n",
    "    # Dummy for different qualifications\n",
    "    df['Quali_Secondary education'] = df.apply(lambda x: int(x['Previous qualification'] == 1), axis=1)\n",
    "    df['Quali_Basic education'] = df.apply(lambda x: int(x['Previous qualification'] == 19), axis=1)\n",
    "    df['Quali_Tech Spec course'] = df.apply(lambda x: int(x['Previous qualification'] == 39), axis=1)\n",
    "    df['Quali_Higher education'] = df.apply(lambda x: int(x['Previous qualification'] == 3), axis=1)\n",
    "    df['Quali_Other'] = df.apply(lambda x: int(x['Previous qualification'] == 12), axis=1)\n",
    "    df['Quali_12th year of schooling'] = df.apply(lambda x: int(x['Previous qualification'] == 9), axis=1)\n",
    "    df['Quali_Higher education'] = df.apply(lambda x: int(x['Previous qualification'] == 40), axis=1)\n",
    "    df['Quali_Professional higher technical course'] = df.apply(lambda x: int(x['Previous qualification'] == 42), axis=1)\n",
    "\n",
    "    # Dummy for Mother's qualification\n",
    "    df['M_Quali_Secondary education'] = df.apply(lambda x: int(x['Mother\\'s qualification'] == 1), axis=1)\n",
    "    df['M_Quali_Basic education_3rd'] = df.apply(lambda x: int(x['Mother\\'s qualification'] == 19), axis=1)\n",
    "    df['M_Quali_Basic education_1st'] = df.apply(lambda x: int(x['Mother\\'s qualification'] == 37), axis=1)\n",
    "    df['M_Quali_Basic education_2nd'] = df.apply(lambda x: int(x['Mother\\'s qualification'] == 38), axis=1)\n",
    "    df['M_Quali_Higher Education'] = df.apply(lambda x: int(x['Mother\\'s qualification'] == 3), axis=1)   \n",
    "\n",
    "    # Dummy for Mother's qualification\n",
    "    df['M_Quali_Secondary education'] = df.apply(lambda x: int(x['Mother\\'s qualification'] == 1), axis=1)\n",
    "    df['M_Quali_Basic education_3rd'] = df.apply(lambda x: int(x['Mother\\'s qualification'] == 19), axis=1)\n",
    "    df['M_Quali_Basic education_1st'] = df.apply(lambda x: int(x['Mother\\'s qualification'] == 37), axis=1)\n",
    "    df['M_Quali_Basic education_2nd'] = df.apply(lambda x: int(x['Mother\\'s qualification'] == 38), axis=1)\n",
    "    df['M_Quali_Higher Education'] = df.apply(lambda x: int(x['Mother\\'s qualification'] == 3), axis=1) \n",
    "\n",
    "    # Dummy for Father's qualification\n",
    "    df['F_Quali_Secondary education'] = df.apply(lambda x: int(x['Father\\'s qualification'] == 1), axis=1)\n",
    "    df['F_Quali_Basic education_3rd'] = df.apply(lambda x: int(x['Father\\'s qualification'] == 19), axis=1)\n",
    "    df['F_Quali_Basic education_1st'] = df.apply(lambda x: int(x['Father\\'s qualification'] == 37), axis=1)\n",
    "    df['F_Quali_Basic education_2nd'] = df.apply(lambda x: int(x['Father\\'s qualification'] == 38), axis=1)\n",
    "    df['F_Quali_Higher Education'] = df.apply(lambda x: int(x['Father\\'s qualification'] == 3), axis=1) \n",
    "\n",
    "    if is_test == False:\n",
    "        df = df.drop(df[(df['Age at enrollment'] > (np.mean(df['Age at enrollment'])+3*np.std(df['Age at enrollment'])))].index)\n",
    "\n",
    "    df['Age at enrollment'] = standardize_feature(df['Age at enrollment'])\n",
    "    df['Admission grade'] = standardize_feature(df['Admission grade'])\n",
    "    df['Previous qualification (grade)'] = standardize_feature(df['Previous qualification (grade)'])\n",
    "\n",
    "    return df\n",
    "\n",
    "# df = clean_data(df_train)\n",
    "# df.to_csv('df_clean.csv')"
   ]
  },
  {
   "cell_type": "code",
   "execution_count": 65,
   "metadata": {},
   "outputs": [],
   "source": [
    "df = pd.read_csv('train.csv')\n",
    "df = clean_data(df)\n",
    "df.to_csv('df_clean.csv')"
   ]
  },
  {
   "cell_type": "code",
   "execution_count": 66,
   "metadata": {},
   "outputs": [],
   "source": [
    "df_test = pd.read_csv('test.csv')\n",
    "df_test = clean_data(df_test, is_test=True)\n",
    "df_test.to_csv('df_clean_test.csv')"
   ]
  }
 ],
 "metadata": {
  "kernelspec": {
   "display_name": "Python 3",
   "language": "python",
   "name": "python3"
  },
  "language_info": {
   "codemirror_mode": {
    "name": "ipython",
    "version": 3
   },
   "file_extension": ".py",
   "mimetype": "text/x-python",
   "name": "python",
   "nbconvert_exporter": "python",
   "pygments_lexer": "ipython3",
   "version": "3.10.0"
  }
 },
 "nbformat": 4,
 "nbformat_minor": 2
}
