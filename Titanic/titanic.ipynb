{
 "cells": [
  {
   "cell_type": "code",
   "execution_count": 1,
   "metadata": {},
   "outputs": [
    {
     "name": "stderr",
     "output_type": "stream",
     "text": [
      "c:\\Users\\Admin\\AppData\\Local\\Programs\\Python\\Python310\\lib\\site-packages\\requests\\__init__.py:102: RequestsDependencyWarning: urllib3 (1.26.7) or chardet (5.2.0)/charset_normalizer (2.0.7) doesn't match a supported version!\n",
      "  warnings.warn(\"urllib3 ({}) or chardet ({})/charset_normalizer ({}) doesn't match a supported \"\n"
     ]
    }
   ],
   "source": [
    "import kaggle\n",
    "import pandas as pd\n",
    "import numpy as np\n",
    "import zipfile\n",
    "import statsmodels.api as sm\n",
    "from sklearn.ensemble import RandomForestClassifier\n",
    "from sklearn.datasets import make_classification\n",
    "from sklearn import metrics \n",
    "from sklearn.neural_network import MLPClassifier\n",
    "\n",
    "from sklearn.neighbors import KDTree\n",
    "from sklearn.preprocessing import StandardScaler\n",
    "from sklearn.model_selection import GridSearchCV\n"
   ]
  },
  {
   "cell_type": "code",
   "execution_count": 2,
   "metadata": {},
   "outputs": [],
   "source": [
    "# !kaggle competitions download -c titanic\n",
    "# with zipfile.ZipFile('titanic.zip', 'r') as zip_ref:\n",
    "#     zip_ref.extractall()"
   ]
  },
  {
   "cell_type": "code",
   "execution_count": 4,
   "metadata": {},
   "outputs": [],
   "source": [
    "df = pd.read_csv('train.csv')\n",
    "\n",
    "# Spalte isFemale hinzugefügt\n",
    "df['isFemale'] = df.apply(lambda x: x['Sex']=='female', axis=1)\n",
    "df.drop('Sex', axis=1, inplace=True)\n",
    "\n",
    "# Für die zwei fehlenden Werte den Modus eingesetzt\n",
    "df['Embarked'].fillna(df['Embarked'].mode()[0], inplace=True)\n",
    "one_hot = pd.get_dummies(df['Embarked'])\n",
    "one_hot.rename(columns={'S':'Embarked_S', 'C':'Embarked_C', 'Q':'Embarked_Q'}, inplace=True)\n",
    "# df.drop('Embarked',axis = 1, inplace=True)\n",
    "df = df.join(one_hot)\n",
    "\n",
    "# Dummies für die Klasse\n",
    "one_hot = pd.get_dummies(df['Pclass'])\n",
    "one_hot.rename(columns={1:'Class_1', 2:'Class_2', 3:'Class_3'}, inplace=True)\n",
    "# df.drop('Pclass',axis = 1, inplace=True)\n",
    "df = df.join(one_hot)\n",
    "\n",
    "# Dummy-Variablen für Mr, Miss, Mrs und Master\n",
    "title = df.apply(lambda x: x['Name'].split(',')[1].split('.')[0].lstrip(), axis=1)\n",
    "\n",
    "df['isMr'] = title.apply(lambda x: x == 'Mr')\n",
    "df['isMiss'] = title.apply(lambda x: x == 'Miss')\n",
    "df['isMrs'] = title.apply(lambda x: x == 'Mrs')\n",
    "df['isMaster'] = title.apply(lambda x: x == 'Master')\n",
    "\n",
    "df['logFare'] = df.apply(lambda x: np.log(x['Fare']+1), axis=1)\n",
    "\n",
    "df['Cabin'].fillna('X')\n",
    "df['Cabin'] = df.apply(lambda x: str(x['Cabin'])[0], axis=1)\n",
    "one_hot = pd.get_dummies(df['Cabin'], prefix='Cabin')\n",
    "df.drop('Cabin', axis=1, inplace=True)\n",
    "df = df.join(one_hot)\n",
    "\n",
    "df['lenTicket'] = df.apply(lambda x: len(str(x['Ticket'])), axis=1)\n",
    "df['lenTicket'].fillna(0)\n",
    "\n",
    "df['aloneM'] = df.apply(lambda x: (x['SibSp'] + x['Parch'] + x['isFemale']) == 0, axis=1)"
   ]
  },
  {
   "cell_type": "code",
   "execution_count": 5,
   "metadata": {},
   "outputs": [],
   "source": [
    "mask = df['Age'].isna()\n",
    "\n",
    "exog_impute = ['SibSp', 'Fare', 'Embarked_S', 'Embarked_C', 'Embarked_Q', 'isFemale', \n",
    "    'Class_1', 'Class_2', 'Class_3', 'isMiss', 'isMr', 'isMrs', 'isMaster']\n",
    "\n",
    "df_std = df[exog_impute]\n",
    "\n",
    "col_names = df_std.columns\n",
    "scaler = StandardScaler().fit(df_std.values)\n",
    "df_std = scaler.transform(df_std.values)\n",
    "df_std = pd.DataFrame(df_std, columns=col_names)\n",
    "\n",
    "df_ageMissing = df_std[mask]\n",
    "df_age = df_std[~mask]\n",
    "df_age.insert(0, 'Age', df[~mask]['Age'])\n",
    "\n",
    "df_age.reset_index(drop=True, inplace=True)\n",
    "# df_ageMissing.reset_index(drop=True, inplace=True)\n",
    "\n",
    "\n",
    "\n",
    "tree = KDTree(df_age[exog_impute].values, leaf_size=2)\n",
    "imputed_values_knn_1 = []\n",
    "\n",
    "for index, entry in enumerate(df_ageMissing.values):\n",
    "\n",
    "    dist, ind = tree.query([entry], k=1)\n",
    "    ind = ind[0][0]\n",
    "    imputed_values_knn_1.append(df_age['Age'][ind])\n",
    "\n",
    "df.loc[mask, 'Age'] = imputed_values_knn_1\n",
    "\n",
    "\n",
    "df['AgeSq'] = df.apply(lambda x: x['Age']**2, axis=1)\n",
    "df['logAge'] = df.apply(lambda x: np.log(x['Age']+1), axis=1)\n",
    "df['isUnderage'] = df.apply(lambda x: x['Age'] < 18, axis=1)"
   ]
  },
  {
   "cell_type": "code",
   "execution_count": 6,
   "metadata": {},
   "outputs": [
    {
     "name": "stdout",
     "output_type": "stream",
     "text": [
      "Optimization terminated successfully.\n",
      "         Current function value: 0.407777\n",
      "         Iterations 7\n",
      "                           Logit Regression Results                           \n",
      "==============================================================================\n",
      "Dep. Variable:               Survived   No. Observations:                  891\n",
      "Model:                          Logit   Df Residuals:                      874\n",
      "Method:                           MLE   Df Model:                           16\n",
      "Date:                Tue, 04 Jun 2024   Pseudo R-squ.:                  0.3876\n",
      "Time:                        08:28:12   Log-Likelihood:                -363.33\n",
      "converged:                       True   LL-Null:                       -593.33\n",
      "Covariance Type:            nonrobust   LLR p-value:                 9.040e-88\n",
      "==============================================================================\n",
      "                 coef    std err          z      P>|z|      [0.025      0.975]\n",
      "------------------------------------------------------------------------------\n",
      "const         -0.0115      0.893     -0.013      0.990      -1.762       1.739\n",
      "SibSp         -0.6810      0.134     -5.084      0.000      -0.944      -0.418\n",
      "Age           -0.0291      0.009     -3.328      0.001      -0.046      -0.012\n",
      "logFare        0.2269      0.161      1.413      0.158      -0.088       0.542\n",
      "Embarked_C     0.4460      0.254      1.755      0.079      -0.052       0.944\n",
      "Embarked_Q     0.4232      0.349      1.212      0.226      -0.261       1.108\n",
      "Class_2       -0.3650      0.463     -0.788      0.431      -1.273       0.543\n",
      "Class_3       -1.3599      0.488     -2.785      0.005      -2.317      -0.403\n",
      "isMiss         1.8930      0.519      3.651      0.000       0.877       2.909\n",
      "isMr          -0.8230      0.466     -1.767      0.077      -1.736       0.090\n",
      "isMrs          2.5381      0.522      4.861      0.000       1.515       3.561\n",
      "isMaster       2.2960      0.704      3.261      0.001       0.916       3.676\n",
      "Cabin_A        0.8463      0.676      1.251      0.211      -0.479       2.172\n",
      "Cabin_B        0.8830      0.562      1.571      0.116      -0.219       1.985\n",
      "Cabin_C        0.4213      0.510      0.826      0.409      -0.578       1.421\n",
      "Cabin_D        1.4184      0.584      2.430      0.015       0.274       2.562\n",
      "Cabin_E        1.7001      0.594      2.861      0.004       0.535       2.865\n",
      "==============================================================================\n"
     ]
    },
    {
     "data": {
      "text/plain": [
       "0.8316"
      ]
     },
     "execution_count": 6,
     "metadata": {},
     "output_type": "execute_result"
    }
   ],
   "source": [
    "exog = ['SibSp', 'Age', 'logFare', 'Embarked_C', 'Embarked_Q',\n",
    "    'Class_2', 'Class_3', 'isMiss', 'isMr', 'isMrs', 'isMaster',\n",
    "    'Cabin_A', 'Cabin_B', 'Cabin_C', 'Cabin_D', 'Cabin_E']\n",
    "    \n",
    "X_train = df[exog]\n",
    "X_train = sm.add_constant(X_train)\n",
    "Y_train = df['Survived']\n",
    "X_train = X_train.astype(float)\n",
    "Y_train = Y_train.astype(float)\n",
    "\n",
    "model = sm.Logit(Y_train, X_train).fit()\n",
    "\n",
    "print(model.summary())\n",
    "\n",
    "np.round(np.mean((model.predict(X_train)>0.5) == df['Survived']),4)"
   ]
  },
  {
   "cell_type": "markdown",
   "metadata": {},
   "source": [
    "##### Random Forest"
   ]
  },
  {
   "cell_type": "code",
   "execution_count": 19,
   "metadata": {},
   "outputs": [],
   "source": [
    "exog = ['SibSp', 'Parch', 'Age', 'logFare', 'Embarked_C', 'Embarked_Q', 'Embarked_S',\n",
    "    'Class_1', 'Class_2', 'Class_3', 'isMiss', 'isMr', 'isMrs', 'isMaster',\n",
    "    'Cabin_A', 'Cabin_B', 'Cabin_C', 'Cabin_D', 'Cabin_E']\n",
    "    \n",
    "X_train = df[exog]\n",
    "Y_train = df['Survived']\n",
    "X_train = X_train.astype(float)\n",
    "Y_train = Y_train.astype(float)"
   ]
  },
  {
   "cell_type": "code",
   "execution_count": 35,
   "metadata": {},
   "outputs": [
    {
     "name": "stderr",
     "output_type": "stream",
     "text": [
      "c:\\Users\\Admin\\AppData\\Local\\Programs\\Python\\Python310\\lib\\site-packages\\sklearn\\ensemble\\_forest.py:427: FutureWarning: `max_features='auto'` has been deprecated in 1.1 and will be removed in 1.3. To keep the past behaviour, explicitly set `max_features='sqrt'` or remove this parameter as it is also the default value for RandomForestClassifiers and ExtraTreesClassifiers.\n",
      "  warn(\n"
     ]
    },
    {
     "name": "stdout",
     "output_type": "stream",
     "text": [
      "0.8294051627384961\n",
      "{'min_samples_leaf': 1, 'min_samples_split': 7, 'n_estimators': 500}\n"
     ]
    }
   ],
   "source": [
    "rf = RandomForestClassifier(max_features='auto', oob_score=True, random_state=0, n_jobs=-1)\n",
    "\n",
    "param_grid = {\"min_samples_leaf\" : [1], \"min_samples_split\" : [7], \"n_estimators\": [200,300,400,500]}\n",
    "\n",
    "gs = GridSearchCV(estimator=rf, param_grid=param_grid, scoring='accuracy', cv=3, n_jobs=-1)\n",
    "\n",
    "gs = gs.fit(X_train, Y_train)\n",
    "\n",
    "print(gs.best_score_)\n",
    "print(gs.best_params_)"
   ]
  },
  {
   "cell_type": "code",
   "execution_count": 37,
   "metadata": {},
   "outputs": [
    {
     "name": "stdout",
     "output_type": "stream",
     "text": [
      "ACCURACY OF THE MODEL: 0.9225589225589226\n"
     ]
    }
   ],
   "source": [
    "clf = RandomForestClassifier(random_state=0, n_estimators=500, min_samples_split=7, min_samples_leaf=1)\n",
    "clf.fit(X_train, Y_train)\n",
    "\n",
    "y_pred = clf.predict(X_train)\n",
    "\n",
    "print(\"ACCURACY OF THE MODEL:\", metrics.accuracy_score(Y_train, y_pred))"
   ]
  },
  {
   "cell_type": "code",
   "execution_count": 38,
   "metadata": {},
   "outputs": [
    {
     "name": "stdout",
     "output_type": "stream",
     "text": [
      "ACCURACY OF THE MODEL: 0.9797979797979798\n"
     ]
    }
   ],
   "source": [
    "clf = RandomForestClassifier(random_state=0)\n",
    "clf.fit(X_train, Y_train)\n",
    "\n",
    "y_pred = clf.predict(X_train)\n",
    "\n",
    "print(\"ACCURACY OF THE MODEL:\", metrics.accuracy_score(Y_train, y_pred))"
   ]
  },
  {
   "cell_type": "markdown",
   "metadata": {},
   "source": [
    "#### Modell fertig erstellt"
   ]
  },
  {
   "cell_type": "code",
   "execution_count": 39,
   "metadata": {},
   "outputs": [],
   "source": [
    "df_test = pd.read_csv('test.csv')\n",
    "\n",
    "# Spalte isFemale hinzugefügt\n",
    "df_test['isFemale'] = df_test.apply(lambda x: x['Sex']=='female', axis=1)\n",
    "df_test.drop('Sex', axis=1, inplace=True)\n",
    "\n",
    "# Für die zwei fehlenden Werte den Modus eingesetzt\n",
    "df_test['Embarked'].fillna(df_test['Embarked'].mode()[0], inplace=True)\n",
    "df_test['Fare'].fillna(df_test['Fare'].median(), inplace=True)\n",
    "one_hot = pd.get_dummies(df_test['Embarked'])\n",
    "one_hot.rename(columns={'S':'Embarked_S', 'C':'Embarked_C', 'Q':'Embarked_Q'}, inplace=True)\n",
    "df_test.drop('Embarked',axis = 1, inplace=True)\n",
    "df_test = df_test.join(one_hot)\n",
    "\n",
    "\n",
    "# Dummies für die Klasse\n",
    "one_hot = pd.get_dummies(df_test['Pclass'])\n",
    "one_hot.rename(columns={1:'Class_1', 2:'Class_2', 3:'Class_3'}, inplace=True)\n",
    "df_test.drop('Pclass',axis = 1, inplace=True)\n",
    "df_test = df_test.join(one_hot)\n",
    "\n",
    "# Dummy-Variablen für Mr, Miss, Mrs und Master\n",
    "title = df_test.apply(lambda x: x['Name'].split(',')[1].split('.')[0].lstrip(), axis=1)\n",
    "\n",
    "df_test['isMr'] = title.apply(lambda x: x == 'Mr')\n",
    "df_test['isMiss'] = title.apply(lambda x: x == 'Miss')\n",
    "df_test['isMrs'] = title.apply(lambda x: x == 'Mrs')\n",
    "df_test['isMaster'] = title.apply(lambda x: x == 'Master')\n",
    "\n",
    "df_test['logFare'] = df_test.apply(lambda x: np.log(x['Fare']+1), axis=1)\n",
    "\n",
    "df_test['Cabin'].fillna('X')\n",
    "df_test['Cabin'] = df_test.apply(lambda x: str(x['Cabin'])[0], axis=1)\n",
    "one_hot = pd.get_dummies(df_test['Cabin'], prefix='Cabin')\n",
    "df_test.drop('Cabin', axis=1, inplace=True)\n",
    "df_test = df_test.join(one_hot)\n"
   ]
  },
  {
   "cell_type": "code",
   "execution_count": 40,
   "metadata": {},
   "outputs": [],
   "source": [
    "mask = df_test['Age'].isna()\n",
    "\n",
    "df_std = df_test[exog_impute]\n",
    "\n",
    "col_names = df_std.columns\n",
    "scaler = StandardScaler().fit(df_std.values)\n",
    "df_std = scaler.transform(df_std.values)\n",
    "df_std = pd.DataFrame(df_std, columns=col_names)\n",
    "\n",
    "df_ageMissing = df_std[mask]\n",
    "df_age = df_std[~mask]\n",
    "df_age.insert(0, 'Age', df_test[~mask]['Age'])\n",
    "\n",
    "df_age.reset_index(drop=True, inplace=True)\n",
    "# df_ageMissing.reset_index(drop=True, inplace=True)\n"
   ]
  },
  {
   "cell_type": "code",
   "execution_count": 41,
   "metadata": {},
   "outputs": [],
   "source": [
    "tree = KDTree(df_age[exog_impute].values, leaf_size=2)\n",
    "imputed_values_knn_1 = []\n",
    "\n",
    "for index, entry in enumerate(df_ageMissing.values):\n",
    "\n",
    "    dist, ind = tree.query([entry], k=1)\n",
    "    ind = ind[0][0]\n",
    "    imputed_values_knn_1.append(df_age['Age'][ind])\n",
    "\n",
    "df_test.loc[mask, 'Age'] = imputed_values_knn_1"
   ]
  },
  {
   "cell_type": "code",
   "execution_count": 42,
   "metadata": {},
   "outputs": [],
   "source": [
    "exog = ['SibSp', 'Age', 'logFare', 'Embarked_C', 'Embarked_Q',\n",
    "    'Class_2', 'Class_3', 'isMiss', 'isMr', 'isMrs', 'isMaster',\n",
    "    'Cabin_A', 'Cabin_B', 'Cabin_C', 'Cabin_D', 'Cabin_E']\n",
    "\n",
    "X_test = df_test[exog]\n",
    "X_test = sm.add_constant(X_test)\n",
    "X_test = X_test.astype(float)\n",
    "\n",
    "vec = model.predict(X_test)"
   ]
  },
  {
   "cell_type": "code",
   "execution_count": 43,
   "metadata": {},
   "outputs": [
    {
     "data": {
      "text/html": [
       "<div>\n",
       "<style scoped>\n",
       "    .dataframe tbody tr th:only-of-type {\n",
       "        vertical-align: middle;\n",
       "    }\n",
       "\n",
       "    .dataframe tbody tr th {\n",
       "        vertical-align: top;\n",
       "    }\n",
       "\n",
       "    .dataframe thead th {\n",
       "        text-align: right;\n",
       "    }\n",
       "</style>\n",
       "<table border=\"1\" class=\"dataframe\">\n",
       "  <thead>\n",
       "    <tr style=\"text-align: right;\">\n",
       "      <th></th>\n",
       "      <th>PassengerId</th>\n",
       "      <th>Survived</th>\n",
       "    </tr>\n",
       "  </thead>\n",
       "  <tbody>\n",
       "    <tr>\n",
       "      <th>0</th>\n",
       "      <td>892</td>\n",
       "      <td>0</td>\n",
       "    </tr>\n",
       "    <tr>\n",
       "      <th>1</th>\n",
       "      <td>893</td>\n",
       "      <td>0</td>\n",
       "    </tr>\n",
       "    <tr>\n",
       "      <th>2</th>\n",
       "      <td>894</td>\n",
       "      <td>0</td>\n",
       "    </tr>\n",
       "    <tr>\n",
       "      <th>3</th>\n",
       "      <td>895</td>\n",
       "      <td>0</td>\n",
       "    </tr>\n",
       "    <tr>\n",
       "      <th>4</th>\n",
       "      <td>896</td>\n",
       "      <td>1</td>\n",
       "    </tr>\n",
       "    <tr>\n",
       "      <th>...</th>\n",
       "      <td>...</td>\n",
       "      <td>...</td>\n",
       "    </tr>\n",
       "    <tr>\n",
       "      <th>413</th>\n",
       "      <td>1305</td>\n",
       "      <td>0</td>\n",
       "    </tr>\n",
       "    <tr>\n",
       "      <th>414</th>\n",
       "      <td>1306</td>\n",
       "      <td>1</td>\n",
       "    </tr>\n",
       "    <tr>\n",
       "      <th>415</th>\n",
       "      <td>1307</td>\n",
       "      <td>0</td>\n",
       "    </tr>\n",
       "    <tr>\n",
       "      <th>416</th>\n",
       "      <td>1308</td>\n",
       "      <td>0</td>\n",
       "    </tr>\n",
       "    <tr>\n",
       "      <th>417</th>\n",
       "      <td>1309</td>\n",
       "      <td>1</td>\n",
       "    </tr>\n",
       "  </tbody>\n",
       "</table>\n",
       "<p>418 rows × 2 columns</p>\n",
       "</div>"
      ],
      "text/plain": [
       "     PassengerId  Survived\n",
       "0            892         0\n",
       "1            893         0\n",
       "2            894         0\n",
       "3            895         0\n",
       "4            896         1\n",
       "..           ...       ...\n",
       "413         1305         0\n",
       "414         1306         1\n",
       "415         1307         0\n",
       "416         1308         0\n",
       "417         1309         1\n",
       "\n",
       "[418 rows x 2 columns]"
      ]
     },
     "execution_count": 43,
     "metadata": {},
     "output_type": "execute_result"
    }
   ],
   "source": [
    "data = {'PassengerId':df_test['PassengerId'],\n",
    "        'Survived': (vec>0.5).astype(int)}\n",
    "result = pd.DataFrame(data)\n",
    "result"
   ]
  },
  {
   "cell_type": "code",
   "execution_count": 44,
   "metadata": {},
   "outputs": [],
   "source": [
    "result.to_csv('submission.csv', index=False)"
   ]
  },
  {
   "cell_type": "markdown",
   "metadata": {},
   "source": [
    "*** Random Forest ***"
   ]
  },
  {
   "cell_type": "code",
   "execution_count": 45,
   "metadata": {},
   "outputs": [],
   "source": [
    "df_test = pd.read_csv('test.csv')\n",
    "\n",
    "# Spalte isFemale hinzugefügt\n",
    "df_test['isFemale'] = df_test.apply(lambda x: x['Sex']=='female', axis=1)\n",
    "df_test.drop('Sex', axis=1, inplace=True)\n",
    "\n",
    "# Für die zwei fehlenden Werte den Modus eingesetzt\n",
    "df_test['Embarked'].fillna(df_test['Embarked'].mode()[0], inplace=True)\n",
    "one_hot = pd.get_dummies(df_test['Embarked'], prefix='Embarked')\n",
    "df_test.drop('Embarked',axis = 1, inplace=True)\n",
    "df_test = df_test.join(one_hot)\n",
    "\n",
    "# Dummies für die Klasse\n",
    "one_hot = pd.get_dummies(df_test['Pclass'], prefix='Class')\n",
    "df_test = df_test.join(one_hot)\n",
    "\n",
    "# Dummy-Variablen für Mr, Miss, Mrs und Master\n",
    "title = df_test.apply(lambda x: x['Name'].split(',')[1].split('.')[0].lstrip(), axis=1)\n",
    "\n",
    "df_test['isMr'] = title.apply(lambda x: x == 'Mr')\n",
    "df_test['isMiss'] = title.apply(lambda x: x == 'Miss')\n",
    "df_test['isMrs'] = title.apply(lambda x: x == 'Mrs')\n",
    "df_test['isMaster'] = title.apply(lambda x: x == 'Master')\n",
    "\n",
    "df_test['Fare'].fillna(df_test['Fare'].median(), inplace=True)\n",
    "df_test['logFare'] = df_test.apply(lambda x: np.log(x['Fare']+1), axis=1)\n",
    "\n",
    "df_test['Cabin'].fillna('X')\n",
    "df_test['Cabin'] = df_test.apply(lambda x: str(x['Cabin'])[0], axis=1)\n",
    "one_hot = pd.get_dummies(df_test['Cabin'], prefix='Cabin')\n",
    "df_test.drop('Cabin', axis=1, inplace=True)\n",
    "df_test = df_test.join(one_hot)\n",
    "\n",
    "df_test['aloneM'] = df_test.apply(lambda x: (x['SibSp'] + x['Parch'] + x['isFemale']) == 0, axis=1)\n",
    "\n",
    "\n",
    "mask = df_test['Age'].isna()\n",
    "\n",
    "df_test_std = df_test[exog_impute]\n",
    "\n",
    "col_names = df_test_std.columns\n",
    "scaler = StandardScaler().fit(df_test_std.values)\n",
    "df_test_std = scaler.transform(df_test_std.values)\n",
    "df_test_std = pd.DataFrame(df_test_std, columns=col_names)\n",
    "\n",
    "df_test_ageMissing = df_test_std[mask]\n",
    "df_test_age = df_test_std[~mask]\n",
    "df_test_age.insert(0, 'Age', df_test[~mask]['Age'])\n",
    "\n",
    "df_test_age.reset_index(drop=True, inplace=True)\n",
    "# df_test_ageMissing.reset_index(drop=True, inplace=True)\n",
    "\n",
    "\n",
    "tree = KDTree(df_test_age[exog_impute].values, leaf_size=2)\n",
    "imputed_values_knn_1 = []\n",
    "\n",
    "for index, entry in enumerate(df_test_ageMissing.values):\n",
    "\n",
    "    dist, ind = tree.query([entry], k=1)\n",
    "    ind = ind[0][0]\n",
    "    imputed_values_knn_1.append(df_test_age['Age'][ind])\n",
    "\n",
    "df_test.loc[mask, 'Age'] = imputed_values_knn_1\n",
    "\n",
    "\n",
    "df_test['AgeSq'] = df_test.apply(lambda x: x['Age']**2, axis=1)\n",
    "df_test['logAge'] = df_test.apply(lambda x: np.log(x['Age']+1), axis=1)\n",
    "df_test['isUnderage'] = df_test.apply(lambda x: x['Age'] < 18, axis=1)\n"
   ]
  },
  {
   "cell_type": "code",
   "execution_count": 46,
   "metadata": {},
   "outputs": [],
   "source": [
    "exog = ['SibSp', 'Parch', 'Age', 'logFare', 'Embarked_C', 'Embarked_Q', 'Embarked_S',\n",
    "    'Class_1', 'Class_2', 'Class_3', 'isMiss', 'isMr', 'isMrs', 'isMaster',\n",
    "    'Cabin_A', 'Cabin_B', 'Cabin_C', 'Cabin_D', 'Cabin_E']\n",
    "\n",
    "X_test = df_test[exog]\n",
    "y_pred = clf.predict(X_test)"
   ]
  },
  {
   "cell_type": "code",
   "execution_count": 47,
   "metadata": {},
   "outputs": [],
   "source": [
    "data = {'PassengerId':df_test['PassengerId'],\n",
    "        'Survived': y_pred.astype(int)}\n",
    "result_2 = pd.DataFrame(data)"
   ]
  },
  {
   "cell_type": "code",
   "execution_count": 48,
   "metadata": {},
   "outputs": [],
   "source": [
    "result_2.to_csv('submission.csv', index=False)"
   ]
  },
  {
   "cell_type": "code",
   "execution_count": 50,
   "metadata": {},
   "outputs": [
    {
     "data": {
      "text/plain": [
       "0.8406285072951739"
      ]
     },
     "execution_count": 50,
     "metadata": {},
     "output_type": "execute_result"
    }
   ],
   "source": [
    "clf = MLPClassifier(random_state=1, hidden_layer_sizes=[4], max_iter=1000).fit(X_train, Y_train)\n",
    "\n",
    "clf.score(X_train, Y_train)"
   ]
  }
 ],
 "metadata": {
  "kernelspec": {
   "display_name": "Python 3",
   "language": "python",
   "name": "python3"
  },
  "language_info": {
   "codemirror_mode": {
    "name": "ipython",
    "version": 3
   },
   "file_extension": ".py",
   "mimetype": "text/x-python",
   "name": "python",
   "nbconvert_exporter": "python",
   "pygments_lexer": "ipython3",
   "version": "3.10.0"
  }
 },
 "nbformat": 4,
 "nbformat_minor": 2
}
