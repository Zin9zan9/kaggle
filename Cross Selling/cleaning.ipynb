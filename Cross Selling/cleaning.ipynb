{
 "cells": [
  {
   "cell_type": "code",
   "execution_count": 12,
   "metadata": {},
   "outputs": [],
   "source": [
    "import pandas as pd\n",
    "import numpy as np\n",
    "import zipfile\n",
    "from sklearn.preprocessing import StandardScaler\n",
    "import pylab \n",
    "import scipy.stats as stats\n",
    "from matplotlib import pyplot as plt"
   ]
  },
  {
   "cell_type": "code",
   "execution_count": 2,
   "metadata": {},
   "outputs": [],
   "source": [
    "# !kaggle competitions download -c playground-series-s4e7\n",
    "# with zipfile.ZipFile('playground-series-s4e7.zip', 'r') as zip_ref:\n",
    "#     zip_ref.extractall()"
   ]
  },
  {
   "cell_type": "code",
   "execution_count": 23,
   "metadata": {},
   "outputs": [],
   "source": [
    "df = pd.read_csv('train.csv')"
   ]
  },
  {
   "cell_type": "markdown",
   "metadata": {},
   "source": [
    "## Check for Missing value"
   ]
  },
  {
   "cell_type": "code",
   "execution_count": 24,
   "metadata": {},
   "outputs": [
    {
     "data": {
      "text/plain": [
       "id                      0\n",
       "Gender                  0\n",
       "Age                     0\n",
       "Driving_License         0\n",
       "Region_Code             0\n",
       "Previously_Insured      0\n",
       "Vehicle_Age             0\n",
       "Vehicle_Damage          0\n",
       "Annual_Premium          0\n",
       "Policy_Sales_Channel    0\n",
       "Vintage                 0\n",
       "Response                0\n",
       "dtype: int64"
      ]
     },
     "execution_count": 24,
     "metadata": {},
     "output_type": "execute_result"
    }
   ],
   "source": [
    "df.isna().sum()"
   ]
  },
  {
   "cell_type": "code",
   "execution_count": 25,
   "metadata": {},
   "outputs": [
    {
     "data": {
      "text/plain": [
       "id                        int64\n",
       "Gender                   object\n",
       "Age                       int64\n",
       "Driving_License           int64\n",
       "Region_Code             float64\n",
       "Previously_Insured        int64\n",
       "Vehicle_Age              object\n",
       "Vehicle_Damage           object\n",
       "Annual_Premium          float64\n",
       "Policy_Sales_Channel    float64\n",
       "Vintage                   int64\n",
       "Response                  int64\n",
       "dtype: object"
      ]
     },
     "execution_count": 25,
     "metadata": {},
     "output_type": "execute_result"
    }
   ],
   "source": [
    "df.dtypes"
   ]
  },
  {
   "cell_type": "code",
   "execution_count": 26,
   "metadata": {},
   "outputs": [
    {
     "data": {
      "text/plain": [
       "array([35. , 28. , 14. ,  1. , 15. , 47. , 45. ,  8. , 11. ,  3. , 10. ,\n",
       "       12. , 37. , 50. , 30. , 46. , 29. , 16. , 26. , 25. , 41. , 48. ,\n",
       "        7. ,  4. , 24. , 36. , 33. ,  2. ,  9. , 27. , 18. , 43. , 49. ,\n",
       "       17. , 13. , 38. ,  6. , 21. , 23. ,  0. , 19. ,  5. , 39. , 44. ,\n",
       "       20. , 40. , 22. , 32. , 42. , 31. , 34. , 51. , 52. , 39.2])"
      ]
     },
     "execution_count": 26,
     "metadata": {},
     "output_type": "execute_result"
    }
   ],
   "source": [
    "df['Region_Code'].unique()"
   ]
  },
  {
   "cell_type": "code",
   "execution_count": 27,
   "metadata": {},
   "outputs": [
    {
     "data": {
      "text/plain": [
       "Vehicle_Age\n",
       "1-2 Year     5982678\n",
       "< 1 Year     5044145\n",
       "> 2 Years     477975\n",
       "Name: count, dtype: int64"
      ]
     },
     "execution_count": 27,
     "metadata": {},
     "output_type": "execute_result"
    }
   ],
   "source": [
    "df['Vehicle_Age'].value_counts()"
   ]
  },
  {
   "cell_type": "code",
   "execution_count": 28,
   "metadata": {},
   "outputs": [
    {
     "data": {
      "text/plain": [
       "Vehicle_Damage\n",
       "Yes    5783229\n",
       "No     5721569\n",
       "Name: count, dtype: int64"
      ]
     },
     "execution_count": 28,
     "metadata": {},
     "output_type": "execute_result"
    }
   ],
   "source": [
    "df['Vehicle_Damage'].value_counts()"
   ]
  },
  {
   "cell_type": "code",
   "execution_count": 29,
   "metadata": {},
   "outputs": [
    {
     "name": "stdout",
     "output_type": "stream",
     "text": [
      "count    1.150480e+07\n",
      "mean     3.046137e+04\n",
      "std      1.645475e+04\n",
      "min      2.630000e+03\n",
      "25%      2.527700e+04\n",
      "50%      3.182400e+04\n",
      "75%      3.945100e+04\n",
      "max      5.401650e+05\n",
      "Name: Annual_Premium, dtype: float64\n"
     ]
    },
    {
     "data": {
      "text/plain": [
       "<matplotlib.lines.Line2D at 0x21fa03d1210>"
      ]
     },
     "execution_count": 29,
     "metadata": {},
     "output_type": "execute_result"
    },
    {
     "data": {
      "image/png": "[encoded data removed]",
      "text/plain": [
       "<Figure size 900x400 with 1 Axes>"
      ]
     },
     "metadata": {},
     "output_type": "display_data"
    }
   ],
   "source": [
    "print(df['Annual_Premium'].describe())\n",
    "fig, ax = plt.subplots(figsize=(9, 4))\n",
    "ax.ecdf(df['Annual_Premium'], label=\"CDF\")"
   ]
  },
  {
   "cell_type": "code",
   "execution_count": 35,
   "metadata": {},
   "outputs": [
    {
     "data": {
      "text/plain": [
       "Policy_Sales_Channel\n",
       "152.0    4165625\n",
       "26.0     2432851\n",
       "124.0    2264083\n",
       "160.0     640314\n",
       "156.0     316664\n",
       "          ...   \n",
       "111.0       1132\n",
       "107.0       1128\n",
       "47.0        1121\n",
       "121.0       1113\n",
       "65.0        1027\n",
       "Name: count, Length: 75, dtype: int64"
      ]
     },
     "execution_count": 35,
     "metadata": {},
     "output_type": "execute_result"
    }
   ],
   "source": [
    "df['Policy_Sales_Channel'].value_counts()"
   ]
  },
  {
   "cell_type": "code",
   "execution_count": 31,
   "metadata": {},
   "outputs": [],
   "source": [
    "df.drop(df[(df['Annual_Premium'] > 100000)].index, inplace=True)"
   ]
  },
  {
   "cell_type": "code",
   "execution_count": 36,
   "metadata": {},
   "outputs": [
    {
     "data": {
      "text/plain": [
       "count    1.148771e+07\n",
       "mean     1.639004e+02\n",
       "std      7.997807e+01\n",
       "min      1.000000e+01\n",
       "25%      9.900000e+01\n",
       "50%      1.660000e+02\n",
       "75%      2.320000e+02\n",
       "max      2.990000e+02\n",
       "Name: Vintage, dtype: float64"
      ]
     },
     "execution_count": 36,
     "metadata": {},
     "output_type": "execute_result"
    }
   ],
   "source": [
    "df['Vintage'].describe()"
   ]
  },
  {
   "cell_type": "code",
   "execution_count": 38,
   "metadata": {},
   "outputs": [],
   "source": [
    "def standardize_feature(f):\n",
    "    f = f.to_numpy().reshape(-1, 1)\n",
    "    scaler = StandardScaler()\n",
    "    return scaler.fit(f).transform(f)\n",
    "\n",
    "\n",
    "def clean_data(df):\n",
    "\n",
    "    # Drop Duplicates\n",
    "    df.drop_duplicates(inplace=True)\n",
    "    print('Duplicates dropped')\n",
    "\n",
    "    df['Female'] = df.apply(lambda x: x['Gender'] == 'Female', axis=1)\n",
    "    df.drop('Gender', axis=1, inplace=True)\n",
    "    print('Dummy Gender')\n",
    "\n",
    "    # Ein einzelner Region-Code der als Float gespeichert ist.\n",
    "    df.drop(df[df['Region_Code'] == 39.2].index, inplace=True)\n",
    "    print('Region Code Ausreißer dropped')\n",
    "\n",
    "    # Vehicle Age ist kodiert als Strin: \"1-2 Year\", \"< 1 Year\" und \"> 2 Years\"\n",
    "    one_hot = pd.get_dummies(df['Vehicle_Age'], prefix='Vehicle_Age')\n",
    "    df = df.join(one_hot)\n",
    "    df.drop('Vehicle_Age', axis=1, inplace=True)\n",
    "    print('Vehicle Age Dummy eingefügt')\n",
    "\n",
    "    df['Damage'] = df.apply(lambda x: x['Vehicle_Damage'] == 'Yes', axis=1)\n",
    "    df.drop('Vehicle_Damage', axis=1, inplace=True)\n",
    "    print('Vehicle Damage Dummy eingefügt')\n",
    "\n",
    "    # Alle Einträge mit Prämien über 100k droppen\n",
    "    df.drop(df[(df['Annual_Premium'] > 100000)].index, inplace=True)\n",
    "    print('Prämien-Aureißer dropped')\n",
    "\n",
    "    df['Min_Premium'] = df.apply(lambda x: x['Annual_Premium'] == 2630, axis=1)\n",
    "    print('Dummy für Min. Prämie eingefügt')\n",
    "\n",
    "\n",
    "    value_counts = df['Policy_Sales_Channel'].value_counts()\n",
    "    df = df[df['Policy_Sales_Channel'].isin(value_counts[value_counts >= 1000].index)]\n",
    "    print('Irrelevante Sales Channel dropped')\n",
    "\n",
    "    one_hot = pd.get_dummies(df['Policy_Sales_Channel'], prefix='Channel')\n",
    "    df = df.join(one_hot)\n",
    "    print('Dummy für Sales Channel eingefügt')\n",
    "\n",
    "    return df"
   ]
  },
  {
   "cell_type": "code",
   "execution_count": null,
   "metadata": {},
   "outputs": [],
   "source": [
    "df = clean_data(df) # Dauert ca. 7 Minuten"
   ]
  },
  {
   "cell_type": "code",
   "execution_count": 40,
   "metadata": {},
   "outputs": [],
   "source": [
    "df.to_csv('df_train_clean.csv') # Dauert ca. 7 Minuten"
   ]
  }
 ],
 "metadata": {
  "kernelspec": {
   "display_name": "Python 3",
   "language": "python",
   "name": "python3"
  },
  "language_info": {
   "codemirror_mode": {
    "name": "ipython",
    "version": 3
   },
   "file_extension": ".py",
   "mimetype": "text/x-python",
   "name": "python",
   "nbconvert_exporter": "python",
   "pygments_lexer": "ipython3",
   "version": "3.11.9"
  }
 },
 "nbformat": 4,
 "nbformat_minor": 2
}
